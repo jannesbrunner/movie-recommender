{
 "cells": [
  {
   "cell_type": "code",
   "execution_count": 3,
   "metadata": {},
   "outputs": [],
   "source": [
    "import csv\n",
    "import logging\n",
    "import datetime\n",
    "import os\n",
    "\n",
    "import sqlalchemy as sa\n",
    "import pandas as pd\n",
    "import numpy as np\n",
    "from tqdm import tqdm"
   ]
  },
  {
   "cell_type": "code",
   "execution_count": 23,
   "metadata": {},
   "outputs": [],
   "source": [
    "sql_user = 'root'\n",
    "sql_pass = 'myrootpassword'\n",
    "sql_host = 'localhost'\n",
    "sql_db = 'mrdatabase'\n",
    "\n",
    "logging.info(\"connect to Database\")\n",
    "db_connection_str = f'mysql+pymysql://{sql_user}:{sql_pass}@{sql_host}/{sql_db}?charset=utf8mb4'\n",
    "db_engine = sa.create_engine(db_connection_str)\n",
    "db_conncetion = db_engine.connect()\n",
    "# db_tb = pd.read_sql_query('select tconst from title_basics', con=db_conncetion)"
   ]
  },
  {
   "cell_type": "code",
   "execution_count": 21,
   "metadata": {},
   "outputs": [],
   "source": [
    "db_connection_str = f'mysql+pymysql://{sql_user}:{sql_pass}@{sql_host}/{sql_db}?charset=utf8mb4'\n",
    "db_engine = sa.create_engine(db_connection_str)\n",
    "# db_tb = pd.read_sql_query('select tconst from title_basics', con=db_engine)\n"
   ]
  },
  {
   "cell_type": "code",
   "execution_count": 48,
   "metadata": {},
   "outputs": [],
   "source": [
    "\n",
    "\n",
    "# Erstelle das Selectable-Objekt\n",
    "title_basics = sa.select(sa.column('tconst')).select_from(sa.text('title_basics'))\n",
    "\n",
    "# Übergebe das Selectable-Objekt an pd.read_sql()\n",
    "db_tb = pd.read_sql(title_basics, con=db_conncetion)\n"
   ]
  },
  {
   "cell_type": "code",
   "execution_count": 26,
   "metadata": {},
   "outputs": [
    {
     "name": "stdout",
     "output_type": "stream",
     "text": [
      "<class 'pandas.core.frame.DataFrame'>\n",
      "RangeIndex: 9650055 entries, 0 to 9650054\n",
      "Data columns (total 1 columns):\n",
      " #   Column  Dtype \n",
      "---  ------  ----- \n",
      " 0   tconst  object\n",
      "dtypes: object(1)\n",
      "memory usage: 73.6+ MB\n"
     ]
    }
   ],
   "source": [
    "db_tb.info()"
   ]
  },
  {
   "cell_type": "code",
   "execution_count": 38,
   "metadata": {},
   "outputs": [],
   "source": [
    "failed_chunk = pd.read_csv('./tsv_dump/failed_chunks/title_episode2.csv')"
   ]
  },
  {
   "cell_type": "code",
   "execution_count": 39,
   "metadata": {},
   "outputs": [],
   "source": [
    "ps2 = db_tb.tconst"
   ]
  },
  {
   "cell_type": "code",
   "execution_count": 44,
   "metadata": {},
   "outputs": [],
   "source": [
    "ps1 = failed_chunk.parentTconst"
   ]
  },
  {
   "cell_type": "code",
   "execution_count": 46,
   "metadata": {},
   "outputs": [
    {
     "data": {
      "text/plain": [
       "71    tt9810440\n",
       "Name: parentTconst, dtype: object"
      ]
     },
     "execution_count": 46,
     "metadata": {},
     "output_type": "execute_result"
    }
   ],
   "source": [
    "ps1[~ps1.isin(ps2)]"
   ]
  },
  {
   "cell_type": "code",
   "execution_count": 47,
   "metadata": {},
   "outputs": [
    {
     "data": {
      "text/plain": [
       "tconst           tt10374418\n",
       "parentTconst      tt9810440\n",
       "seasonNumber           99.0\n",
       "episodeNumber           2.0\n",
       "Name: 71, dtype: object"
      ]
     },
     "execution_count": 47,
     "metadata": {},
     "output_type": "execute_result"
    }
   ],
   "source": [
    "failed_chunk.iloc[71]"
   ]
  }
 ],
 "metadata": {
  "kernelspec": {
   "display_name": "mr-env",
   "language": "python",
   "name": "python3"
  },
  "language_info": {
   "codemirror_mode": {
    "name": "ipython",
    "version": 3
   },
   "file_extension": ".py",
   "mimetype": "text/x-python",
   "name": "python",
   "nbconvert_exporter": "python",
   "pygments_lexer": "ipython3",
   "version": "3.9.6"
  },
  "orig_nbformat": 4,
  "vscode": {
   "interpreter": {
    "hash": "673c252b59256247ce82bb81f98fdcf69fb8805d9944669f497f34769a356d4d"
   }
  }
 },
 "nbformat": 4,
 "nbformat_minor": 2
}
